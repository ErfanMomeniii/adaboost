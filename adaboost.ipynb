{
  "nbformat": 4,
  "nbformat_minor": 0,
  "metadata": {
    "colab": {
      "provenance": []
    },
    "kernelspec": {
      "name": "python3",
      "display_name": "Python 3"
    },
    "language_info": {
      "name": "python"
    }
  },
  "cells": [
    {
      "cell_type": "code",
      "source": [
        "!pip install opendatasets"
      ],
      "metadata": {
        "colab": {
          "base_uri": "https://localhost:8080/"
        },
        "id": "--CUcpXw-bGx",
        "outputId": "82c5d93d-48a5-42f9-8e42-a33f14f80df3"
      },
      "execution_count": 1,
      "outputs": [
        {
          "output_type": "stream",
          "name": "stdout",
          "text": [
            "Collecting opendatasets\n",
            "  Downloading opendatasets-0.1.22-py3-none-any.whl (15 kB)\n",
            "Requirement already satisfied: tqdm in /usr/local/lib/python3.10/dist-packages (from opendatasets) (4.66.1)\n",
            "Requirement already satisfied: kaggle in /usr/local/lib/python3.10/dist-packages (from opendatasets) (1.5.16)\n",
            "Requirement already satisfied: click in /usr/local/lib/python3.10/dist-packages (from opendatasets) (8.1.7)\n",
            "Requirement already satisfied: six>=1.10 in /usr/local/lib/python3.10/dist-packages (from kaggle->opendatasets) (1.16.0)\n",
            "Requirement already satisfied: certifi in /usr/local/lib/python3.10/dist-packages (from kaggle->opendatasets) (2023.7.22)\n",
            "Requirement already satisfied: python-dateutil in /usr/local/lib/python3.10/dist-packages (from kaggle->opendatasets) (2.8.2)\n",
            "Requirement already satisfied: requests in /usr/local/lib/python3.10/dist-packages (from kaggle->opendatasets) (2.31.0)\n",
            "Requirement already satisfied: python-slugify in /usr/local/lib/python3.10/dist-packages (from kaggle->opendatasets) (8.0.1)\n",
            "Requirement already satisfied: urllib3 in /usr/local/lib/python3.10/dist-packages (from kaggle->opendatasets) (2.0.6)\n",
            "Requirement already satisfied: bleach in /usr/local/lib/python3.10/dist-packages (from kaggle->opendatasets) (6.0.0)\n",
            "Requirement already satisfied: webencodings in /usr/local/lib/python3.10/dist-packages (from bleach->kaggle->opendatasets) (0.5.1)\n",
            "Requirement already satisfied: text-unidecode>=1.3 in /usr/local/lib/python3.10/dist-packages (from python-slugify->kaggle->opendatasets) (1.3)\n",
            "Requirement already satisfied: charset-normalizer<4,>=2 in /usr/local/lib/python3.10/dist-packages (from requests->kaggle->opendatasets) (3.3.0)\n",
            "Requirement already satisfied: idna<4,>=2.5 in /usr/local/lib/python3.10/dist-packages (from requests->kaggle->opendatasets) (3.4)\n",
            "Installing collected packages: opendatasets\n",
            "Successfully installed opendatasets-0.1.22\n"
          ]
        }
      ]
    },
    {
      "cell_type": "code",
      "source": [
        "import opendatasets as od\n",
        "import cv2\n",
        "import numpy as np\n",
        "\n",
        "od.download(\n",
        "    \"https://www.kaggle.com/competitions/spaceship-titanic/data\"\n",
        ")"
      ],
      "metadata": {
        "colab": {
          "base_uri": "https://localhost:8080/"
        },
        "id": "i_B-Oi-I-iBC",
        "outputId": "fa272a77-4c95-4aa8-8dc7-ea38a164cf34"
      },
      "execution_count": 8,
      "outputs": [
        {
          "output_type": "stream",
          "name": "stdout",
          "text": [
            "Skipping, found downloaded files in \"./spaceship-titanic\" (use force=True to force download)\n"
          ]
        }
      ]
    },
    {
      "cell_type": "code",
      "source": [
        "import pandas as pd\n",
        "train=pd.read_csv(\"/content/spaceship-titanic/train.csv\")\n",
        "test=pd.read_csv(\"/content/spaceship-titanic/test.csv\")\n"
      ],
      "metadata": {
        "id": "BjV7lvXL_Jkh"
      },
      "execution_count": 51,
      "outputs": []
    },
    {
      "cell_type": "code",
      "source": [
        "train.info()"
      ],
      "metadata": {
        "colab": {
          "base_uri": "https://localhost:8080/"
        },
        "id": "h1hAEAe-_ZXC",
        "outputId": "ac6cab13-07f0-4a72-b04e-b69262faa59e"
      },
      "execution_count": 44,
      "outputs": [
        {
          "output_type": "stream",
          "name": "stdout",
          "text": [
            "<class 'pandas.core.frame.DataFrame'>\n",
            "RangeIndex: 8693 entries, 0 to 8692\n",
            "Data columns (total 14 columns):\n",
            " #   Column        Non-Null Count  Dtype  \n",
            "---  ------        --------------  -----  \n",
            " 0   PassengerId   8693 non-null   object \n",
            " 1   HomePlanet    8492 non-null   object \n",
            " 2   CryoSleep     8476 non-null   object \n",
            " 3   Cabin         8494 non-null   object \n",
            " 4   Destination   8511 non-null   object \n",
            " 5   Age           8514 non-null   float64\n",
            " 6   VIP           8490 non-null   object \n",
            " 7   RoomService   8512 non-null   float64\n",
            " 8   FoodCourt     8510 non-null   float64\n",
            " 9   ShoppingMall  8485 non-null   float64\n",
            " 10  Spa           8510 non-null   float64\n",
            " 11  VRDeck        8505 non-null   float64\n",
            " 12  Name          8493 non-null   object \n",
            " 13  Transported   8693 non-null   bool   \n",
            "dtypes: bool(1), float64(6), object(7)\n",
            "memory usage: 891.5+ KB\n"
          ]
        }
      ]
    },
    {
      "cell_type": "code",
      "source": [
        "train.isnull().sum()"
      ],
      "metadata": {
        "colab": {
          "base_uri": "https://localhost:8080/"
        },
        "id": "G9Np-_43AQgP",
        "outputId": "d97d741d-8f1c-4688-cdd9-163e158e1f22"
      },
      "execution_count": 21,
      "outputs": [
        {
          "output_type": "execute_result",
          "data": {
            "text/plain": [
              "PassengerId       0\n",
              "HomePlanet      201\n",
              "CryoSleep       217\n",
              "Cabin           199\n",
              "Destination     182\n",
              "Age             179\n",
              "VIP             203\n",
              "RoomService     181\n",
              "FoodCourt       183\n",
              "ShoppingMall    208\n",
              "Spa             183\n",
              "VRDeck          188\n",
              "Name            200\n",
              "Transported       0\n",
              "dtype: int64"
            ]
          },
          "metadata": {},
          "execution_count": 21
        }
      ]
    },
    {
      "cell_type": "code",
      "source": [
        "# drop verbose features\n",
        "train=train.drop(['Name','RoomService', 'FoodCourt', 'ShoppingMall', 'Spa', 'VRDeck','Age','Cabin','VIP'],axis=1)"
      ],
      "metadata": {
        "id": "onT-iNe1Ajfv"
      },
      "execution_count": 52,
      "outputs": []
    },
    {
      "cell_type": "code",
      "source": [
        "train.isnull().sum()"
      ],
      "metadata": {
        "colab": {
          "base_uri": "https://localhost:8080/"
        },
        "id": "daVtX1qAAl0t",
        "outputId": "6994106a-142b-4bbc-9c18-33590f8bd094"
      },
      "execution_count": 23,
      "outputs": [
        {
          "output_type": "execute_result",
          "data": {
            "text/plain": [
              "PassengerId      0\n",
              "HomePlanet     201\n",
              "CryoSleep      217\n",
              "Destination    182\n",
              "Transported      0\n",
              "dtype: int64"
            ]
          },
          "metadata": {},
          "execution_count": 23
        }
      ]
    },
    {
      "cell_type": "code",
      "source": [
        "from sklearn.impute import SimpleImputer\n",
        "mssi=SimpleImputer(strategy='most_frequent')\n",
        "\n",
        "train['HomePlanet']=mssi.fit_transform(train[['HomePlanet']])\n",
        "train['CryoSleep']=mssi.fit_transform(train[['CryoSleep']])\n",
        "train['Destination']=mssi.fit_transform(train[['Destination']])"
      ],
      "metadata": {
        "id": "wxacE69NCbY7"
      },
      "execution_count": 53,
      "outputs": []
    },
    {
      "cell_type": "code",
      "source": [
        "train.info()"
      ],
      "metadata": {
        "colab": {
          "base_uri": "https://localhost:8080/"
        },
        "id": "TP35_9qM8Fcw",
        "outputId": "086cda32-efcf-4811-de61-5158d7c8e136"
      },
      "execution_count": 54,
      "outputs": [
        {
          "output_type": "stream",
          "name": "stdout",
          "text": [
            "<class 'pandas.core.frame.DataFrame'>\n",
            "RangeIndex: 8693 entries, 0 to 8692\n",
            "Data columns (total 5 columns):\n",
            " #   Column       Non-Null Count  Dtype \n",
            "---  ------       --------------  ----- \n",
            " 0   PassengerId  8693 non-null   object\n",
            " 1   HomePlanet   8693 non-null   object\n",
            " 2   CryoSleep    8693 non-null   object\n",
            " 3   Destination  8693 non-null   object\n",
            " 4   Transported  8693 non-null   bool  \n",
            "dtypes: bool(1), object(4)\n",
            "memory usage: 280.3+ KB\n"
          ]
        }
      ]
    },
    {
      "cell_type": "code",
      "source": [
        "from sklearn.preprocessing import OrdinalEncoder\n",
        "oe=OrdinalEncoder()\n",
        "train['HomePlanet']=oe.fit_transform(train[['HomePlanet']])"
      ],
      "metadata": {
        "id": "EcApj7r5bRx4"
      },
      "execution_count": 55,
      "outputs": []
    },
    {
      "cell_type": "code",
      "source": [
        "train['CryoSleep']=oe.fit_transform(train[['CryoSleep']])\n",
        "train['Destination']=oe.fit_transform(train[['Destination']])\n",
        "train['Transported']=oe.fit_transform(train[['Transported']])"
      ],
      "metadata": {
        "id": "SxkGy4mibw7d"
      },
      "execution_count": 56,
      "outputs": []
    },
    {
      "cell_type": "code",
      "source": [
        "from sklearn.model_selection import train_test_split\n",
        "x_train,x_test,y_train,y_test=train_test_split(train.drop(['Transported'],axis=1),train['Transported'],test_size=0.2,random_state=0)"
      ],
      "metadata": {
        "id": "eEA9vyc6cmol"
      },
      "execution_count": 100,
      "outputs": []
    },
    {
      "cell_type": "code",
      "source": [
        "from sklearn.ensemble import AdaBoostClassifier\n",
        "ac=AdaBoostClassifier(n_estimators=50,learning_rate=0.2,random_state=0)\n",
        "ac.fit(x_train,y_train)\n",
        "y_predicted=ac.predict(x_test)"
      ],
      "metadata": {
        "id": "gxITr1_vdRP7"
      },
      "execution_count": 105,
      "outputs": []
    },
    {
      "cell_type": "code",
      "source": [
        "from sklearn.metrics import accuracy_score\n",
        "accuracy_score(y_predicted,y_test)"
      ],
      "metadata": {
        "id": "64EZQN-qd449",
        "outputId": "32d54cb6-44d1-4014-b4db-d792296b36c2",
        "colab": {
          "base_uri": "https://localhost:8080/"
        }
      },
      "execution_count": 106,
      "outputs": [
        {
          "output_type": "execute_result",
          "data": {
            "text/plain": [
              "0.7084531339850488"
            ]
          },
          "metadata": {},
          "execution_count": 106
        }
      ]
    },
    {
      "cell_type": "code",
      "source": [
        "test=test[['PassengerId','HomePlanet','CryoSleep','Destination']]\n",
        "\n",
        "test['HomePlanet']=mssi.fit_transform(test[['HomePlanet']])\n",
        "test['CryoSleep']=mssi.fit_transform(test[['CryoSleep']])\n",
        "test['Destination']=mssi.fit_transform(test[['Destination']])\n",
        "test['HomePlanet']=oe.fit_transform(test[['HomePlanet']])\n",
        "test['CryoSleep']=oe.fit_transform(test[['CryoSleep']])\n",
        "test['Destination']=oe.fit_transform(test[['Destination']])\n",
        "y=ac.predict(test)"
      ],
      "metadata": {
        "id": "JiDPwruweU11"
      },
      "execution_count": 107,
      "outputs": []
    },
    {
      "cell_type": "code",
      "source": [
        "y=y.astype(str)\n",
        "y[y=='1.0']='True'\n",
        "y[y=='0.0']='False'\n",
        "answer=pd.DataFrame({\n",
        "    'PassengerId':test['PassengerId'],\n",
        "    'Transported':y\n",
        "})\n",
        "answer.to_csv('./answer.csv',sep=',',index=False,header=True)"
      ],
      "metadata": {
        "id": "AjKSDoeLgEAz"
      },
      "execution_count": 108,
      "outputs": []
    }
  ]
}